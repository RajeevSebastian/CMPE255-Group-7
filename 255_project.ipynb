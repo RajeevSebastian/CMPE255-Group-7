{
  "nbformat": 4,
  "nbformat_minor": 0,
  "metadata": {
    "colab": {
      "name": "255_project.ipynb",
      "provenance": []
    },
    "kernelspec": {
      "name": "python3",
      "display_name": "Python 3"
    }
  },
  "cells": [
    {
      "cell_type": "code",
      "metadata": {
        "id": "FNz7hKDoP23r",
        "colab": {
          "base_uri": "https://localhost:8080/"
        },
        "outputId": "e1ec9317-0c60-4b1d-8895-c6ec668f09b9"
      },
      "source": [
        "import numpy as np\n",
        "import pandas as pd\n",
        "import matplotlib.pyplot as plt\n",
        "import seaborn as sns\n",
        "from imblearn.over_sampling import RandomOverSampler\n",
        "import warnings\n",
        "warnings.filterwarnings(\"ignore\")"
      ],
      "execution_count": 1,
      "outputs": [
        {
          "output_type": "stream",
          "text": [
            "/usr/local/lib/python3.6/dist-packages/sklearn/externals/six.py:31: FutureWarning: The module is deprecated in version 0.21 and will be removed in version 0.23 since we've dropped support for Python 2.7. Please rely on the official version of six (https://pypi.org/project/six/).\n",
            "  \"(https://pypi.org/project/six/).\", FutureWarning)\n",
            "/usr/local/lib/python3.6/dist-packages/sklearn/utils/deprecation.py:144: FutureWarning: The sklearn.neighbors.base module is  deprecated in version 0.22 and will be removed in version 0.24. The corresponding classes / functions should instead be imported from sklearn.neighbors. Anything that cannot be imported from sklearn.neighbors is now part of the private API.\n",
            "  warnings.warn(message, FutureWarning)\n"
          ],
          "name": "stderr"
        }
      ]
    },
    {
      "cell_type": "code",
      "metadata": {
        "colab": {
          "base_uri": "https://localhost:8080/"
        },
        "id": "vefWKwwTxnyn",
        "outputId": "c310ffb2-1009-4fba-80d7-b84853be4c66"
      },
      "source": [
        "!pip install catboost"
      ],
      "execution_count": 2,
      "outputs": [
        {
          "output_type": "stream",
          "text": [
            "Collecting catboost\n",
            "\u001b[?25l  Downloading https://files.pythonhosted.org/packages/7e/c1/c1c4707013f9e2f8a96899dd3a87f66c9167d6d776a6dc8fe7ec8678d446/catboost-0.24.3-cp36-none-manylinux1_x86_64.whl (66.3MB)\n",
            "\u001b[K     |████████████████████████████████| 66.3MB 55kB/s \n",
            "\u001b[?25hRequirement already satisfied: scipy in /usr/local/lib/python3.6/dist-packages (from catboost) (1.4.1)\n",
            "Requirement already satisfied: plotly in /usr/local/lib/python3.6/dist-packages (from catboost) (4.4.1)\n",
            "Requirement already satisfied: matplotlib in /usr/local/lib/python3.6/dist-packages (from catboost) (3.2.2)\n",
            "Requirement already satisfied: six in /usr/local/lib/python3.6/dist-packages (from catboost) (1.15.0)\n",
            "Requirement already satisfied: numpy>=1.16.0 in /usr/local/lib/python3.6/dist-packages (from catboost) (1.18.5)\n",
            "Requirement already satisfied: graphviz in /usr/local/lib/python3.6/dist-packages (from catboost) (0.10.1)\n",
            "Requirement already satisfied: pandas>=0.24.0 in /usr/local/lib/python3.6/dist-packages (from catboost) (1.1.4)\n",
            "Requirement already satisfied: retrying>=1.3.3 in /usr/local/lib/python3.6/dist-packages (from plotly->catboost) (1.3.3)\n",
            "Requirement already satisfied: cycler>=0.10 in /usr/local/lib/python3.6/dist-packages (from matplotlib->catboost) (0.10.0)\n",
            "Requirement already satisfied: kiwisolver>=1.0.1 in /usr/local/lib/python3.6/dist-packages (from matplotlib->catboost) (1.3.1)\n",
            "Requirement already satisfied: python-dateutil>=2.1 in /usr/local/lib/python3.6/dist-packages (from matplotlib->catboost) (2.8.1)\n",
            "Requirement already satisfied: pyparsing!=2.0.4,!=2.1.2,!=2.1.6,>=2.0.1 in /usr/local/lib/python3.6/dist-packages (from matplotlib->catboost) (2.4.7)\n",
            "Requirement already satisfied: pytz>=2017.2 in /usr/local/lib/python3.6/dist-packages (from pandas>=0.24.0->catboost) (2018.9)\n",
            "Installing collected packages: catboost\n",
            "Successfully installed catboost-0.24.3\n"
          ],
          "name": "stdout"
        }
      ]
    },
    {
      "cell_type": "code",
      "metadata": {
        "id": "REy4ZNJWTN_0"
      },
      "source": [
        "train_data=pd.read_csv('/content/drive/MyDrive/CMPE 255/Group Project/train.csv')\n",
        "test_data=pd.read_csv('/content/drive/MyDrive/CMPE 255/Group Project/test.csv')"
      ],
      "execution_count": 3,
      "outputs": []
    },
    {
      "cell_type": "code",
      "metadata": {
        "colab": {
          "base_uri": "https://localhost:8080/",
          "height": 204
        },
        "id": "dX-edMx8TgfG",
        "outputId": "be9c314c-3493-464e-b867-3a2ffdee2c18"
      },
      "source": [
        "train_data.head()"
      ],
      "execution_count": 4,
      "outputs": [
        {
          "output_type": "execute_result",
          "data": {
            "text/html": [
              "<div>\n",
              "<style scoped>\n",
              "    .dataframe tbody tr th:only-of-type {\n",
              "        vertical-align: middle;\n",
              "    }\n",
              "\n",
              "    .dataframe tbody tr th {\n",
              "        vertical-align: top;\n",
              "    }\n",
              "\n",
              "    .dataframe thead th {\n",
              "        text-align: right;\n",
              "    }\n",
              "</style>\n",
              "<table border=\"1\" class=\"dataframe\">\n",
              "  <thead>\n",
              "    <tr style=\"text-align: right;\">\n",
              "      <th></th>\n",
              "      <th>id</th>\n",
              "      <th>Gender</th>\n",
              "      <th>Age</th>\n",
              "      <th>Driving_License</th>\n",
              "      <th>Region_Code</th>\n",
              "      <th>Previously_Insured</th>\n",
              "      <th>Vehicle_Age</th>\n",
              "      <th>Vehicle_Damage</th>\n",
              "      <th>Annual_Premium</th>\n",
              "      <th>Policy_Sales_Channel</th>\n",
              "      <th>Vintage</th>\n",
              "      <th>Response</th>\n",
              "    </tr>\n",
              "  </thead>\n",
              "  <tbody>\n",
              "    <tr>\n",
              "      <th>0</th>\n",
              "      <td>1</td>\n",
              "      <td>Male</td>\n",
              "      <td>44</td>\n",
              "      <td>1</td>\n",
              "      <td>28.0</td>\n",
              "      <td>0</td>\n",
              "      <td>&gt; 2 Years</td>\n",
              "      <td>Yes</td>\n",
              "      <td>40454.0</td>\n",
              "      <td>26.0</td>\n",
              "      <td>217</td>\n",
              "      <td>1</td>\n",
              "    </tr>\n",
              "    <tr>\n",
              "      <th>1</th>\n",
              "      <td>2</td>\n",
              "      <td>Male</td>\n",
              "      <td>76</td>\n",
              "      <td>1</td>\n",
              "      <td>3.0</td>\n",
              "      <td>0</td>\n",
              "      <td>1-2 Year</td>\n",
              "      <td>No</td>\n",
              "      <td>33536.0</td>\n",
              "      <td>26.0</td>\n",
              "      <td>183</td>\n",
              "      <td>0</td>\n",
              "    </tr>\n",
              "    <tr>\n",
              "      <th>2</th>\n",
              "      <td>3</td>\n",
              "      <td>Male</td>\n",
              "      <td>47</td>\n",
              "      <td>1</td>\n",
              "      <td>28.0</td>\n",
              "      <td>0</td>\n",
              "      <td>&gt; 2 Years</td>\n",
              "      <td>Yes</td>\n",
              "      <td>38294.0</td>\n",
              "      <td>26.0</td>\n",
              "      <td>27</td>\n",
              "      <td>1</td>\n",
              "    </tr>\n",
              "    <tr>\n",
              "      <th>3</th>\n",
              "      <td>4</td>\n",
              "      <td>Male</td>\n",
              "      <td>21</td>\n",
              "      <td>1</td>\n",
              "      <td>11.0</td>\n",
              "      <td>1</td>\n",
              "      <td>&lt; 1 Year</td>\n",
              "      <td>No</td>\n",
              "      <td>28619.0</td>\n",
              "      <td>152.0</td>\n",
              "      <td>203</td>\n",
              "      <td>0</td>\n",
              "    </tr>\n",
              "    <tr>\n",
              "      <th>4</th>\n",
              "      <td>5</td>\n",
              "      <td>Female</td>\n",
              "      <td>29</td>\n",
              "      <td>1</td>\n",
              "      <td>41.0</td>\n",
              "      <td>1</td>\n",
              "      <td>&lt; 1 Year</td>\n",
              "      <td>No</td>\n",
              "      <td>27496.0</td>\n",
              "      <td>152.0</td>\n",
              "      <td>39</td>\n",
              "      <td>0</td>\n",
              "    </tr>\n",
              "  </tbody>\n",
              "</table>\n",
              "</div>"
            ],
            "text/plain": [
              "   id  Gender  Age  ...  Policy_Sales_Channel  Vintage  Response\n",
              "0   1    Male   44  ...                  26.0      217         1\n",
              "1   2    Male   76  ...                  26.0      183         0\n",
              "2   3    Male   47  ...                  26.0       27         1\n",
              "3   4    Male   21  ...                 152.0      203         0\n",
              "4   5  Female   29  ...                 152.0       39         0\n",
              "\n",
              "[5 rows x 12 columns]"
            ]
          },
          "metadata": {
            "tags": []
          },
          "execution_count": 4
        }
      ]
    },
    {
      "cell_type": "code",
      "metadata": {
        "colab": {
          "base_uri": "https://localhost:8080/"
        },
        "id": "86DYrfQQTsSl",
        "outputId": "5e71bc5b-222d-4f1d-ee8f-7bc7ea083992"
      },
      "source": [
        "train_data.shape"
      ],
      "execution_count": 5,
      "outputs": [
        {
          "output_type": "execute_result",
          "data": {
            "text/plain": [
              "(381109, 12)"
            ]
          },
          "metadata": {
            "tags": []
          },
          "execution_count": 5
        }
      ]
    },
    {
      "cell_type": "code",
      "metadata": {
        "id": "Ag37AdMCLNB1"
      },
      "source": [
        "train_data = train_data.drop(['id'], axis=1)\n",
        "test_data = test_data.drop(['id'], axis=1)"
      ],
      "execution_count": 6,
      "outputs": []
    },
    {
      "cell_type": "code",
      "metadata": {
        "colab": {
          "base_uri": "https://localhost:8080/"
        },
        "id": "EXzIl-xVTt-4",
        "outputId": "0aa75460-2ce5-405d-a885-8d67b2b1edc9"
      },
      "source": [
        "train_data.isnull().sum()"
      ],
      "execution_count": 7,
      "outputs": [
        {
          "output_type": "execute_result",
          "data": {
            "text/plain": [
              "Gender                  0\n",
              "Age                     0\n",
              "Driving_License         0\n",
              "Region_Code             0\n",
              "Previously_Insured      0\n",
              "Vehicle_Age             0\n",
              "Vehicle_Damage          0\n",
              "Annual_Premium          0\n",
              "Policy_Sales_Channel    0\n",
              "Vintage                 0\n",
              "Response                0\n",
              "dtype: int64"
            ]
          },
          "metadata": {
            "tags": []
          },
          "execution_count": 7
        }
      ]
    },
    {
      "cell_type": "code",
      "metadata": {
        "colab": {
          "base_uri": "https://localhost:8080/",
          "height": 300
        },
        "id": "TsJH4PvWUNKu",
        "outputId": "b6b655aa-bf11-4c36-d3bb-d155a706bebb"
      },
      "source": [
        "sns.countplot(train_data['Response'])"
      ],
      "execution_count": 8,
      "outputs": [
        {
          "output_type": "execute_result",
          "data": {
            "text/plain": [
              "<matplotlib.axes._subplots.AxesSubplot at 0x7f36b64169b0>"
            ]
          },
          "metadata": {
            "tags": []
          },
          "execution_count": 8
        },
        {
          "output_type": "display_data",
          "data": {
            "image/png": "[encoded data removed]",
            "text/plain": [
              "<Figure size 432x288 with 1 Axes>"
            ]
          },
          "metadata": {
            "tags": [],
            "needs_background": "light"
          }
        }
      ]
    },
    {
      "cell_type": "code",
      "metadata": {
        "id": "Hgb3x5-beopA"
      },
      "source": [
        "num_feat = ['Age','Vintage']\n",
        "cat_feat = ['Gender', 'Driving_License', 'Previously_Insured', 'Vehicle_Age_lt_1_Year',\n",
        "            'Vehicle_Age_gt_2_Years','Vehicle_Damage_Yes',\n",
        "            'Region_Code','Policy_Sales_Channel']"
      ],
      "execution_count": 9,
      "outputs": []
    },
    {
      "cell_type": "code",
      "metadata": {
        "colab": {
          "base_uri": "https://localhost:8080/",
          "height": 204
        },
        "id": "An4VvBxKpGlr",
        "outputId": "3da7c6c3-8b00-4a63-adf2-aa782689a911"
      },
      "source": [
        "train_data.head()"
      ],
      "execution_count": 10,
      "outputs": [
        {
          "output_type": "execute_result",
          "data": {
            "text/html": [
              "<div>\n",
              "<style scoped>\n",
              "    .dataframe tbody tr th:only-of-type {\n",
              "        vertical-align: middle;\n",
              "    }\n",
              "\n",
              "    .dataframe tbody tr th {\n",
              "        vertical-align: top;\n",
              "    }\n",
              "\n",
              "    .dataframe thead th {\n",
              "        text-align: right;\n",
              "    }\n",
              "</style>\n",
              "<table border=\"1\" class=\"dataframe\">\n",
              "  <thead>\n",
              "    <tr style=\"text-align: right;\">\n",
              "      <th></th>\n",
              "      <th>Gender</th>\n",
              "      <th>Age</th>\n",
              "      <th>Driving_License</th>\n",
              "      <th>Region_Code</th>\n",
              "      <th>Previously_Insured</th>\n",
              "      <th>Vehicle_Age</th>\n",
              "      <th>Vehicle_Damage</th>\n",
              "      <th>Annual_Premium</th>\n",
              "      <th>Policy_Sales_Channel</th>\n",
              "      <th>Vintage</th>\n",
              "      <th>Response</th>\n",
              "    </tr>\n",
              "  </thead>\n",
              "  <tbody>\n",
              "    <tr>\n",
              "      <th>0</th>\n",
              "      <td>Male</td>\n",
              "      <td>44</td>\n",
              "      <td>1</td>\n",
              "      <td>28.0</td>\n",
              "      <td>0</td>\n",
              "      <td>&gt; 2 Years</td>\n",
              "      <td>Yes</td>\n",
              "      <td>40454.0</td>\n",
              "      <td>26.0</td>\n",
              "      <td>217</td>\n",
              "      <td>1</td>\n",
              "    </tr>\n",
              "    <tr>\n",
              "      <th>1</th>\n",
              "      <td>Male</td>\n",
              "      <td>76</td>\n",
              "      <td>1</td>\n",
              "      <td>3.0</td>\n",
              "      <td>0</td>\n",
              "      <td>1-2 Year</td>\n",
              "      <td>No</td>\n",
              "      <td>33536.0</td>\n",
              "      <td>26.0</td>\n",
              "      <td>183</td>\n",
              "      <td>0</td>\n",
              "    </tr>\n",
              "    <tr>\n",
              "      <th>2</th>\n",
              "      <td>Male</td>\n",
              "      <td>47</td>\n",
              "      <td>1</td>\n",
              "      <td>28.0</td>\n",
              "      <td>0</td>\n",
              "      <td>&gt; 2 Years</td>\n",
              "      <td>Yes</td>\n",
              "      <td>38294.0</td>\n",
              "      <td>26.0</td>\n",
              "      <td>27</td>\n",
              "      <td>1</td>\n",
              "    </tr>\n",
              "    <tr>\n",
              "      <th>3</th>\n",
              "      <td>Male</td>\n",
              "      <td>21</td>\n",
              "      <td>1</td>\n",
              "      <td>11.0</td>\n",
              "      <td>1</td>\n",
              "      <td>&lt; 1 Year</td>\n",
              "      <td>No</td>\n",
              "      <td>28619.0</td>\n",
              "      <td>152.0</td>\n",
              "      <td>203</td>\n",
              "      <td>0</td>\n",
              "    </tr>\n",
              "    <tr>\n",
              "      <th>4</th>\n",
              "      <td>Female</td>\n",
              "      <td>29</td>\n",
              "      <td>1</td>\n",
              "      <td>41.0</td>\n",
              "      <td>1</td>\n",
              "      <td>&lt; 1 Year</td>\n",
              "      <td>No</td>\n",
              "      <td>27496.0</td>\n",
              "      <td>152.0</td>\n",
              "      <td>39</td>\n",
              "      <td>0</td>\n",
              "    </tr>\n",
              "  </tbody>\n",
              "</table>\n",
              "</div>"
            ],
            "text/plain": [
              "   Gender  Age  Driving_License  ...  Policy_Sales_Channel  Vintage Response\n",
              "0    Male   44                1  ...                  26.0      217        1\n",
              "1    Male   76                1  ...                  26.0      183        0\n",
              "2    Male   47                1  ...                  26.0       27        1\n",
              "3    Male   21                1  ...                 152.0      203        0\n",
              "4  Female   29                1  ...                 152.0       39        0\n",
              "\n",
              "[5 rows x 11 columns]"
            ]
          },
          "metadata": {
            "tags": []
          },
          "execution_count": 10
        }
      ]
    },
    {
      "cell_type": "code",
      "metadata": {
        "id": "yu_jQB_8qXLI"
      },
      "source": [
        "#Converting The categorical feature 'Gender' to a binary variable. Can be done using get_dummies pandas as well\n",
        "train_data.loc[train_data['Gender'] == 'Male', 'Gender'] = 1\n",
        "train_data.loc[train_data['Gender'] == 'Female', 'Gender'] = 0\n",
        "test_data.loc[test_data['Gender'] == 'Male', 'Gender'] = 1\n",
        "test_data.loc[test_data['Gender'] == 'Female', 'Gender'] = 0"
      ],
      "execution_count": 11,
      "outputs": []
    },
    {
      "cell_type": "code",
      "metadata": {
        "id": "aXpMwKXoIuoc"
      },
      "source": [
        "#Converting the categorical feature Vehical age to numerical\n",
        "train_data.loc[train_data['Vehicle_Age'] == '> 2 Years', 'Vehicle_Age'] = 2\n",
        "train_data.loc[train_data['Vehicle_Age'] == '1-2 Year', 'Vehicle_Age'] = 1\n",
        "train_data.loc[train_data['Vehicle_Age'] == '< 1 Year', 'Vehicle_Age'] = 0\n",
        "\n",
        "test_data.loc[test_data['Vehicle_Age'] == '> 2 Years', 'Vehicle_Age'] = 2\n",
        "test_data.loc[test_data['Vehicle_Age'] == '1-2 Year', 'Vehicle_Age'] = 1\n",
        "test_data.loc[test_data['Vehicle_Age'] == '< 1 Year', 'Vehicle_Age'] = 0"
      ],
      "execution_count": 12,
      "outputs": []
    },
    {
      "cell_type": "code",
      "metadata": {
        "id": "bZSHvGMmJTKZ"
      },
      "source": [
        "#Converting the categorical feature Vehical Damage to numerical\n",
        "train_data.loc[train_data['Vehicle_Damage'] == 'Yes', 'Vehicle_Damage'] = 1\n",
        "train_data.loc[train_data['Vehicle_Damage'] == 'No', 'Vehicle_Damage'] = 0\n",
        "test_data.loc[test_data['Vehicle_Damage'] == 'Yes', 'Vehicle_Damage'] = 1\n",
        "test_data.loc[test_data['Vehicle_Damage'] == 'No', 'Vehicle_Damage'] = 0"
      ],
      "execution_count": 13,
      "outputs": []
    },
    {
      "cell_type": "code",
      "metadata": {
        "id": "S7TQJxQEK0ij"
      },
      "source": [
        "for col in train_data.columns:\n",
        "    train_data[col] = train_data[col].astype(np.int32)"
      ],
      "execution_count": 14,
      "outputs": []
    },
    {
      "cell_type": "code",
      "metadata": {
        "id": "iJo902DPrhrJ",
        "colab": {
          "base_uri": "https://localhost:8080/"
        },
        "outputId": "66d30b4b-5b0a-4226-d966-6f9fe4e32b48"
      },
      "source": [
        "for col in train_data.columns:\n",
        "    if col == 'Response':\n",
        "        continue\n",
        "    print(col, train_data[col].corr(train_data['Response']))"
      ],
      "execution_count": 15,
      "outputs": [
        {
          "output_type": "stream",
          "text": [
            "Gender 0.05243991377134205\n",
            "Age 0.11114689471251019\n",
            "Driving_License 0.01015517459407371\n",
            "Region_Code 0.01056985561522313\n",
            "Previously_Insured -0.34117046261352385\n",
            "Vehicle_Age 0.2218739872179906\n",
            "Vehicle_Damage 0.35439954387975453\n",
            "Annual_Premium 0.022574695542560037\n",
            "Policy_Sales_Channel -0.139041500829161\n",
            "Vintage -0.0010503720019898887\n"
          ],
          "name": "stdout"
        }
      ]
    },
    {
      "cell_type": "code",
      "metadata": {
        "id": "F8UJFlptNpb8"
      },
      "source": [
        "from sklearn.utils import resample,shuffle\n",
        "train_majority = train_data[train_data['Response']==0]\n",
        "train_minority = train_data[train_data['Response']==1]\n",
        "train_majority_downsampled = resample(train_majority,replace=False,n_samples=46710)"
      ],
      "execution_count": 16,
      "outputs": []
    },
    {
      "cell_type": "code",
      "metadata": {
        "colab": {
          "base_uri": "https://localhost:8080/"
        },
        "id": "L2mUeLeYN80W",
        "outputId": "2ee113f8-bfa6-4c01-b818-543ed030d9d1"
      },
      "source": [
        "balanced_train_data = pd.concat([train_minority,train_majority_downsampled])\n",
        "balanced_train_data = shuffle(balanced_train_data)\n",
        "balanced_train_data.Response.value_counts()"
      ],
      "execution_count": 17,
      "outputs": [
        {
          "output_type": "execute_result",
          "data": {
            "text/plain": [
              "1    46710\n",
              "0    46710\n",
              "Name: Response, dtype: int64"
            ]
          },
          "metadata": {
            "tags": []
          },
          "execution_count": 17
        }
      ]
    },
    {
      "cell_type": "code",
      "metadata": {
        "colab": {
          "base_uri": "https://localhost:8080/",
          "height": 317
        },
        "id": "RuMCMq8gYcMz",
        "outputId": "dc35a169-8a6b-454a-e3c7-b2e90821483b"
      },
      "source": [
        "balanced_train_data.describe()"
      ],
      "execution_count": 18,
      "outputs": [
        {
          "output_type": "execute_result",
          "data": {
            "text/html": [
              "<div>\n",
              "<style scoped>\n",
              "    .dataframe tbody tr th:only-of-type {\n",
              "        vertical-align: middle;\n",
              "    }\n",
              "\n",
              "    .dataframe tbody tr th {\n",
              "        vertical-align: top;\n",
              "    }\n",
              "\n",
              "    .dataframe thead th {\n",
              "        text-align: right;\n",
              "    }\n",
              "</style>\n",
              "<table border=\"1\" class=\"dataframe\">\n",
              "  <thead>\n",
              "    <tr style=\"text-align: right;\">\n",
              "      <th></th>\n",
              "      <th>Gender</th>\n",
              "      <th>Age</th>\n",
              "      <th>Driving_License</th>\n",
              "      <th>Region_Code</th>\n",
              "      <th>Previously_Insured</th>\n",
              "      <th>Vehicle_Age</th>\n",
              "      <th>Vehicle_Damage</th>\n",
              "      <th>Annual_Premium</th>\n",
              "      <th>Policy_Sales_Channel</th>\n",
              "      <th>Vintage</th>\n",
              "      <th>Response</th>\n",
              "    </tr>\n",
              "  </thead>\n",
              "  <tbody>\n",
              "    <tr>\n",
              "      <th>count</th>\n",
              "      <td>93420.000000</td>\n",
              "      <td>93420.000000</td>\n",
              "      <td>93420.000000</td>\n",
              "      <td>93420.00000</td>\n",
              "      <td>93420.000000</td>\n",
              "      <td>93420.000000</td>\n",
              "      <td>93420.000000</td>\n",
              "      <td>93420.000000</td>\n",
              "      <td>93420.000000</td>\n",
              "      <td>93420.000000</td>\n",
              "      <td>93420.000000</td>\n",
              "    </tr>\n",
              "    <tr>\n",
              "      <th>mean</th>\n",
              "      <td>0.571794</td>\n",
              "      <td>40.769461</td>\n",
              "      <td>0.998491</td>\n",
              "      <td>26.54894</td>\n",
              "      <td>0.261668</td>\n",
              "      <td>0.753575</td>\n",
              "      <td>0.709976</td>\n",
              "      <td>31056.177842</td>\n",
              "      <td>103.374010</td>\n",
              "      <td>154.078623</td>\n",
              "      <td>0.500000</td>\n",
              "    </tr>\n",
              "    <tr>\n",
              "      <th>std</th>\n",
              "      <td>0.494821</td>\n",
              "      <td>14.348837</td>\n",
              "      <td>0.038821</td>\n",
              "      <td>12.62923</td>\n",
              "      <td>0.439545</td>\n",
              "      <td>0.566838</td>\n",
              "      <td>0.453775</td>\n",
              "      <td>17950.232459</td>\n",
              "      <td>55.892162</td>\n",
              "      <td>83.670891</td>\n",
              "      <td>0.500003</td>\n",
              "    </tr>\n",
              "    <tr>\n",
              "      <th>min</th>\n",
              "      <td>0.000000</td>\n",
              "      <td>20.000000</td>\n",
              "      <td>0.000000</td>\n",
              "      <td>0.00000</td>\n",
              "      <td>0.000000</td>\n",
              "      <td>0.000000</td>\n",
              "      <td>0.000000</td>\n",
              "      <td>2630.000000</td>\n",
              "      <td>1.000000</td>\n",
              "      <td>10.000000</td>\n",
              "      <td>0.000000</td>\n",
              "    </tr>\n",
              "    <tr>\n",
              "      <th>25%</th>\n",
              "      <td>0.000000</td>\n",
              "      <td>27.000000</td>\n",
              "      <td>1.000000</td>\n",
              "      <td>16.00000</td>\n",
              "      <td>0.000000</td>\n",
              "      <td>0.000000</td>\n",
              "      <td>0.000000</td>\n",
              "      <td>24648.000000</td>\n",
              "      <td>26.000000</td>\n",
              "      <td>82.000000</td>\n",
              "      <td>0.000000</td>\n",
              "    </tr>\n",
              "    <tr>\n",
              "      <th>50%</th>\n",
              "      <td>1.000000</td>\n",
              "      <td>41.000000</td>\n",
              "      <td>1.000000</td>\n",
              "      <td>28.00000</td>\n",
              "      <td>0.000000</td>\n",
              "      <td>1.000000</td>\n",
              "      <td>1.000000</td>\n",
              "      <td>32239.000000</td>\n",
              "      <td>124.000000</td>\n",
              "      <td>154.000000</td>\n",
              "      <td>0.500000</td>\n",
              "    </tr>\n",
              "    <tr>\n",
              "      <th>75%</th>\n",
              "      <td>1.000000</td>\n",
              "      <td>50.000000</td>\n",
              "      <td>1.000000</td>\n",
              "      <td>34.00000</td>\n",
              "      <td>1.000000</td>\n",
              "      <td>1.000000</td>\n",
              "      <td>1.000000</td>\n",
              "      <td>40254.250000</td>\n",
              "      <td>152.000000</td>\n",
              "      <td>226.000000</td>\n",
              "      <td>1.000000</td>\n",
              "    </tr>\n",
              "    <tr>\n",
              "      <th>max</th>\n",
              "      <td>1.000000</td>\n",
              "      <td>85.000000</td>\n",
              "      <td>1.000000</td>\n",
              "      <td>52.00000</td>\n",
              "      <td>1.000000</td>\n",
              "      <td>2.000000</td>\n",
              "      <td>1.000000</td>\n",
              "      <td>540165.000000</td>\n",
              "      <td>163.000000</td>\n",
              "      <td>299.000000</td>\n",
              "      <td>1.000000</td>\n",
              "    </tr>\n",
              "  </tbody>\n",
              "</table>\n",
              "</div>"
            ],
            "text/plain": [
              "             Gender           Age  ...       Vintage      Response\n",
              "count  93420.000000  93420.000000  ...  93420.000000  93420.000000\n",
              "mean       0.571794     40.769461  ...    154.078623      0.500000\n",
              "std        0.494821     14.348837  ...     83.670891      0.500003\n",
              "min        0.000000     20.000000  ...     10.000000      0.000000\n",
              "25%        0.000000     27.000000  ...     82.000000      0.000000\n",
              "50%        1.000000     41.000000  ...    154.000000      0.500000\n",
              "75%        1.000000     50.000000  ...    226.000000      1.000000\n",
              "max        1.000000     85.000000  ...    299.000000      1.000000\n",
              "\n",
              "[8 rows x 11 columns]"
            ]
          },
          "metadata": {
            "tags": []
          },
          "execution_count": 18
        }
      ]
    },
    {
      "cell_type": "code",
      "metadata": {
        "colab": {
          "base_uri": "https://localhost:8080/"
        },
        "id": "-o9uAqdsZpVp",
        "outputId": "6b5536af-1eac-4d14-a2d5-02e79c90457e"
      },
      "source": [
        "balanced_train_data.shape"
      ],
      "execution_count": 19,
      "outputs": [
        {
          "output_type": "execute_result",
          "data": {
            "text/plain": [
              "(93420, 11)"
            ]
          },
          "metadata": {
            "tags": []
          },
          "execution_count": 19
        }
      ]
    },
    {
      "cell_type": "code",
      "metadata": {
        "colab": {
          "base_uri": "https://localhost:8080/",
          "height": 783
        },
        "id": "qbUf2lqJ4wWK",
        "outputId": "b86bcf49-f36c-4fcc-8202-6f78f3afa638"
      },
      "source": [
        "f = plt.figure(figsize=(13, 11))\n",
        "plt.matshow(balanced_train_data.corr(), fignum=f.number)\n",
        "plt.xticks(range(balanced_train_data.shape[1]), balanced_train_data.columns, fontsize=14, rotation=75)\n",
        "plt.yticks(range(balanced_train_data.shape[1]), balanced_train_data.columns, fontsize=14)\n",
        "cb = plt.colorbar()\n",
        "cb.ax.tick_params(labelsize=14)"
      ],
      "execution_count": 20,
      "outputs": [
        {
          "output_type": "display_data",
          "data": {
            "image/png": "[encoded data removed]",
            "text/plain": [
              "<Figure size 936x792 with 2 Axes>"
            ]
          },
          "metadata": {
            "tags": [],
            "needs_background": "light"
          }
        }
      ]
    },
    {
      "cell_type": "code",
      "metadata": {
        "colab": {
          "base_uri": "https://localhost:8080/",
          "height": 242
        },
        "id": "5Zb0abAwfmHy",
        "outputId": "f10a58aa-d1b1-46b5-ece6-ba4094515a93"
      },
      "source": [
        "print(\"Age distribution according to Response\")\n",
        "facetgrid = sns.FacetGrid(balanced_train_data,hue=\"Response\",aspect = 4)\n",
        "facetgrid.map(sns.kdeplot,\"Age\",shade = True)\n",
        "facetgrid.set(xlim = (0,balanced_train_data[\"Age\"].max()))\n",
        "facetgrid.add_legend();"
      ],
      "execution_count": 21,
      "outputs": [
        {
          "output_type": "stream",
          "text": [
            "Age distribution according to Response\n"
          ],
          "name": "stdout"
        },
        {
          "output_type": "display_data",
          "data": {
            "image/png": "[encoded data removed]",
            "text/plain": [
              "<Figure size 919.75x216 with 1 Axes>"
            ]
          },
          "metadata": {
            "tags": [],
            "needs_background": "light"
          }
        }
      ]
    },
    {
      "cell_type": "code",
      "metadata": {
        "colab": {
          "base_uri": "https://localhost:8080/",
          "height": 366
        },
        "id": "3Fquwi-e3gbN",
        "outputId": "77cc473b-666d-4882-e15c-075c36a6bf1a"
      },
      "source": [
        "plt.rcParams['figure.figsize']=(6,8)\n",
        "color = ['yellowgreen','gold',\"lightskyblue\"]\n",
        "balanced_train_data['Vehicle_Age'].value_counts().plot.pie(y=\"Vehicle_Age\",colors=color,explode=(0.02,0,0.3),startangle=50,shadow=True,autopct=\"%0.1f%%\")\n",
        "plt.axis('on');"
      ],
      "execution_count": 22,
      "outputs": [
        {
          "output_type": "display_data",
          "data": {
            "image/png": "[encoded data removed]",
            "text/plain": [
              "<Figure size 432x576 with 1 Axes>"
            ]
          },
          "metadata": {
            "tags": []
          }
        }
      ]
    },
    {
      "cell_type": "code",
      "metadata": {
        "id": "Chw_qLuASguD"
      },
      "source": [
        "from sklearn.preprocessing import StandardScaler, MinMaxScaler"
      ],
      "execution_count": 23,
      "outputs": []
    },
    {
      "cell_type": "code",
      "metadata": {
        "id": "X_QxV9oMSmDm"
      },
      "source": [
        "scale = StandardScaler()\n",
        "balanced_train_data[num_feat] = scale.fit_transform(balanced_train_data[num_feat])"
      ],
      "execution_count": 24,
      "outputs": []
    },
    {
      "cell_type": "code",
      "metadata": {
        "id": "IopBGd22lLvv"
      },
      "source": [
        "test_data[num_feat] = scale.fit_transform(test_data[num_feat])"
      ],
      "execution_count": 25,
      "outputs": []
    },
    {
      "cell_type": "code",
      "metadata": {
        "id": "nS8RjL4lS9CR"
      },
      "source": [
        "min_max = MinMaxScaler()\n",
        "balanced_train_data[['Annual_Premium']] = min_max.fit_transform(balanced_train_data[['Annual_Premium']])"
      ],
      "execution_count": 26,
      "outputs": []
    },
    {
      "cell_type": "code",
      "metadata": {
        "id": "u-LlkDLpls3z"
      },
      "source": [
        "test_data[['Annual_Premium']] = min_max.fit_transform(test_data[['Annual_Premium']])"
      ],
      "execution_count": 27,
      "outputs": []
    },
    {
      "cell_type": "code",
      "metadata": {
        "colab": {
          "base_uri": "https://localhost:8080/",
          "height": 224
        },
        "id": "M_nuUHvvTQL-",
        "outputId": "10060844-5f32-4bbb-db01-501bacb4f765"
      },
      "source": [
        "balanced_train_data.head()"
      ],
      "execution_count": 28,
      "outputs": [
        {
          "output_type": "execute_result",
          "data": {
            "text/html": [
              "<div>\n",
              "<style scoped>\n",
              "    .dataframe tbody tr th:only-of-type {\n",
              "        vertical-align: middle;\n",
              "    }\n",
              "\n",
              "    .dataframe tbody tr th {\n",
              "        vertical-align: top;\n",
              "    }\n",
              "\n",
              "    .dataframe thead th {\n",
              "        text-align: right;\n",
              "    }\n",
              "</style>\n",
              "<table border=\"1\" class=\"dataframe\">\n",
              "  <thead>\n",
              "    <tr style=\"text-align: right;\">\n",
              "      <th></th>\n",
              "      <th>Gender</th>\n",
              "      <th>Age</th>\n",
              "      <th>Driving_License</th>\n",
              "      <th>Region_Code</th>\n",
              "      <th>Previously_Insured</th>\n",
              "      <th>Vehicle_Age</th>\n",
              "      <th>Vehicle_Damage</th>\n",
              "      <th>Annual_Premium</th>\n",
              "      <th>Policy_Sales_Channel</th>\n",
              "      <th>Vintage</th>\n",
              "      <th>Response</th>\n",
              "    </tr>\n",
              "  </thead>\n",
              "  <tbody>\n",
              "    <tr>\n",
              "      <th>2004</th>\n",
              "      <td>1</td>\n",
              "      <td>1.409916</td>\n",
              "      <td>1</td>\n",
              "      <td>22</td>\n",
              "      <td>1</td>\n",
              "      <td>1</td>\n",
              "      <td>0</td>\n",
              "      <td>0.044998</td>\n",
              "      <td>124</td>\n",
              "      <td>-1.088540</td>\n",
              "      <td>0</td>\n",
              "    </tr>\n",
              "    <tr>\n",
              "      <th>324660</th>\n",
              "      <td>0</td>\n",
              "      <td>-0.959627</td>\n",
              "      <td>1</td>\n",
              "      <td>35</td>\n",
              "      <td>0</td>\n",
              "      <td>0</td>\n",
              "      <td>0</td>\n",
              "      <td>0.065640</td>\n",
              "      <td>160</td>\n",
              "      <td>0.417368</td>\n",
              "      <td>0</td>\n",
              "    </tr>\n",
              "    <tr>\n",
              "      <th>376669</th>\n",
              "      <td>1</td>\n",
              "      <td>-1.238397</td>\n",
              "      <td>1</td>\n",
              "      <td>8</td>\n",
              "      <td>0</td>\n",
              "      <td>0</td>\n",
              "      <td>1</td>\n",
              "      <td>0.067880</td>\n",
              "      <td>152</td>\n",
              "      <td>-0.239973</td>\n",
              "      <td>1</td>\n",
              "    </tr>\n",
              "    <tr>\n",
              "      <th>362624</th>\n",
              "      <td>0</td>\n",
              "      <td>0.922068</td>\n",
              "      <td>1</td>\n",
              "      <td>28</td>\n",
              "      <td>0</td>\n",
              "      <td>1</td>\n",
              "      <td>1</td>\n",
              "      <td>0.000000</td>\n",
              "      <td>157</td>\n",
              "      <td>1.158371</td>\n",
              "      <td>1</td>\n",
              "    </tr>\n",
              "    <tr>\n",
              "      <th>334855</th>\n",
              "      <td>1</td>\n",
              "      <td>0.503914</td>\n",
              "      <td>1</td>\n",
              "      <td>46</td>\n",
              "      <td>0</td>\n",
              "      <td>1</td>\n",
              "      <td>1</td>\n",
              "      <td>0.100591</td>\n",
              "      <td>124</td>\n",
              "      <td>-0.263876</td>\n",
              "      <td>1</td>\n",
              "    </tr>\n",
              "  </tbody>\n",
              "</table>\n",
              "</div>"
            ],
            "text/plain": [
              "        Gender       Age  ...   Vintage  Response\n",
              "2004         1  1.409916  ... -1.088540         0\n",
              "324660       0 -0.959627  ...  0.417368         0\n",
              "376669       1 -1.238397  ... -0.239973         1\n",
              "362624       0  0.922068  ...  1.158371         1\n",
              "334855       1  0.503914  ... -0.263876         1\n",
              "\n",
              "[5 rows x 11 columns]"
            ]
          },
          "metadata": {
            "tags": []
          },
          "execution_count": 28
        }
      ]
    },
    {
      "cell_type": "code",
      "metadata": {
        "colab": {
          "base_uri": "https://localhost:8080/",
          "height": 204
        },
        "id": "nfVvs_HRg8CJ",
        "outputId": "1b777304-1732-4378-ee8b-d30a4e78bb2b"
      },
      "source": [
        "test_data.head()"
      ],
      "execution_count": 29,
      "outputs": [
        {
          "output_type": "execute_result",
          "data": {
            "text/html": [
              "<div>\n",
              "<style scoped>\n",
              "    .dataframe tbody tr th:only-of-type {\n",
              "        vertical-align: middle;\n",
              "    }\n",
              "\n",
              "    .dataframe tbody tr th {\n",
              "        vertical-align: top;\n",
              "    }\n",
              "\n",
              "    .dataframe thead th {\n",
              "        text-align: right;\n",
              "    }\n",
              "</style>\n",
              "<table border=\"1\" class=\"dataframe\">\n",
              "  <thead>\n",
              "    <tr style=\"text-align: right;\">\n",
              "      <th></th>\n",
              "      <th>Gender</th>\n",
              "      <th>Age</th>\n",
              "      <th>Driving_License</th>\n",
              "      <th>Region_Code</th>\n",
              "      <th>Previously_Insured</th>\n",
              "      <th>Vehicle_Age</th>\n",
              "      <th>Vehicle_Damage</th>\n",
              "      <th>Annual_Premium</th>\n",
              "      <th>Policy_Sales_Channel</th>\n",
              "      <th>Vintage</th>\n",
              "    </tr>\n",
              "  </thead>\n",
              "  <tbody>\n",
              "    <tr>\n",
              "      <th>0</th>\n",
              "      <td>1</td>\n",
              "      <td>-0.890089</td>\n",
              "      <td>1</td>\n",
              "      <td>11.0</td>\n",
              "      <td>1</td>\n",
              "      <td>0</td>\n",
              "      <td>0</td>\n",
              "      <td>0.070633</td>\n",
              "      <td>152.0</td>\n",
              "      <td>-1.211054</td>\n",
              "    </tr>\n",
              "    <tr>\n",
              "      <th>1</th>\n",
              "      <td>1</td>\n",
              "      <td>0.079795</td>\n",
              "      <td>1</td>\n",
              "      <td>28.0</td>\n",
              "      <td>0</td>\n",
              "      <td>1</td>\n",
              "      <td>1</td>\n",
              "      <td>0.066321</td>\n",
              "      <td>7.0</td>\n",
              "      <td>-0.517782</td>\n",
              "    </tr>\n",
              "    <tr>\n",
              "      <th>2</th>\n",
              "      <td>1</td>\n",
              "      <td>0.532408</td>\n",
              "      <td>1</td>\n",
              "      <td>28.0</td>\n",
              "      <td>0</td>\n",
              "      <td>1</td>\n",
              "      <td>1</td>\n",
              "      <td>0.079717</td>\n",
              "      <td>124.0</td>\n",
              "      <td>0.534079</td>\n",
              "    </tr>\n",
              "    <tr>\n",
              "      <th>3</th>\n",
              "      <td>1</td>\n",
              "      <td>-0.954748</td>\n",
              "      <td>1</td>\n",
              "      <td>27.0</td>\n",
              "      <td>1</td>\n",
              "      <td>0</td>\n",
              "      <td>1</td>\n",
              "      <td>0.073978</td>\n",
              "      <td>152.0</td>\n",
              "      <td>0.390643</td>\n",
              "    </tr>\n",
              "    <tr>\n",
              "      <th>4</th>\n",
              "      <td>1</td>\n",
              "      <td>-0.760771</td>\n",
              "      <td>1</td>\n",
              "      <td>28.0</td>\n",
              "      <td>1</td>\n",
              "      <td>0</td>\n",
              "      <td>0</td>\n",
              "      <td>0.120293</td>\n",
              "      <td>152.0</td>\n",
              "      <td>1.705469</td>\n",
              "    </tr>\n",
              "  </tbody>\n",
              "</table>\n",
              "</div>"
            ],
            "text/plain": [
              "  Gender       Age  ...  Policy_Sales_Channel   Vintage\n",
              "0      1 -0.890089  ...                 152.0 -1.211054\n",
              "1      1  0.079795  ...                   7.0 -0.517782\n",
              "2      1  0.532408  ...                 124.0  0.534079\n",
              "3      1 -0.954748  ...                 152.0  0.390643\n",
              "4      1 -0.760771  ...                 152.0  1.705469\n",
              "\n",
              "[5 rows x 10 columns]"
            ]
          },
          "metadata": {
            "tags": []
          },
          "execution_count": 29
        }
      ]
    },
    {
      "cell_type": "code",
      "metadata": {
        "id": "2JhAlJjnl4Gh"
      },
      "source": [
        "cat_col=['Gender','Driving_License', 'Region_Code', 'Previously_Insured', 'Vehicle_Age', 'Vehicle_Damage','Policy_Sales_Channel']"
      ],
      "execution_count": 30,
      "outputs": []
    },
    {
      "cell_type": "code",
      "metadata": {
        "id": "rPLgzgWjmpk8"
      },
      "source": [
        "q3 =balanced_train_data['Annual_Premium'].quantile(0.75)\n",
        "q1=balanced_train_data['Annual_Premium'].quantile(0.25)"
      ],
      "execution_count": 32,
      "outputs": []
    },
    {
      "cell_type": "code",
      "metadata": {
        "id": "XsJXJ7UIm3XE"
      },
      "source": [
        "iqr=q3-q1\n",
        "\n",
        "upper_boundary=q3+(1.5*iqr)\n",
        "lower_boundary=q1-(1.5*iqr)"
      ],
      "execution_count": 33,
      "outputs": []
    },
    {
      "cell_type": "code",
      "metadata": {
        "id": "s6lptQKbnFJ0"
      },
      "source": [
        "train_new=balanced_train_data[balanced_train_data['Annual_Premium']>=lower_boundary]\n",
        "train_new=train_new[train_new['Annual_Premium']<=upper_boundary]"
      ],
      "execution_count": 35,
      "outputs": []
    },
    {
      "cell_type": "code",
      "metadata": {
        "colab": {
          "base_uri": "https://localhost:8080/"
        },
        "id": "d4rYooGlnQX2",
        "outputId": "2058957b-bdaf-4b87-a4b9-36b1a1b9ae13"
      },
      "source": [
        "train_new.shape\n"
      ],
      "execution_count": 39,
      "outputs": [
        {
          "output_type": "execute_result",
          "data": {
            "text/plain": [
              "(91005, 11)"
            ]
          },
          "metadata": {
            "tags": []
          },
          "execution_count": 39
        }
      ]
    },
    {
      "cell_type": "code",
      "metadata": {
        "id": "PSD7AP8km18S"
      },
      "source": [
        "from sklearn.metrics import roc_auc_score\n",
        "from sklearn.model_selection import train_test_split \n",
        "from sklearn.metrics import precision_score,recall_score\n",
        "from sklearn.metrics import classification_report"
      ],
      "execution_count": 40,
      "outputs": []
    },
    {
      "cell_type": "code",
      "metadata": {
        "id": "0EfTs3qfwbMa"
      },
      "source": [
        "X = train_new.drop(['Response'],axis=1)"
      ],
      "execution_count": 41,
      "outputs": []
    },
    {
      "cell_type": "code",
      "metadata": {
        "id": "9qf1iAXZpRmp"
      },
      "source": [
        "y = train_new['Response']"
      ],
      "execution_count": 42,
      "outputs": []
    },
    {
      "cell_type": "code",
      "metadata": {
        "id": "lrDnBpJFm6UB"
      },
      "source": [
        "X_train, X_test, y_train, y_test = train_test_split(X,y, test_size= 0.25, random_state=42,stratify=y,shuffle=True)"
      ],
      "execution_count": 43,
      "outputs": []
    },
    {
      "cell_type": "code",
      "metadata": {
        "colab": {
          "base_uri": "https://localhost:8080/"
        },
        "id": "jxBJhxFrxTq0",
        "outputId": "4cf19944-a1a4-4def-fa8e-46f42435fa95"
      },
      "source": [
        "from catboost import CatBoostClassifier\n",
        "\n",
        "cat = CatBoostClassifier(learning_rate=0.03, l2_leaf_reg=1, iterations= 1000, depth= 9, border_count= 20,eval_metric = 'AUC')\n",
        "\n",
        "cat= cat.fit(X_train, y_train,cat_features=cat_col,eval_set=(X_test, y_test),early_stopping_rounds=70,verbose=50)\n",
        "\n",
        "pred_proba = cat.predict_proba(X_test)[:, 1]\n",
        "print('CatBoost ROC AUC SCORE: {}'.format(roc_auc_score(y_test,pred_proba)))\n"
      ],
      "execution_count": 44,
      "outputs": [
        {
          "output_type": "stream",
          "text": [
            "0:\ttest: 0.8407583\tbest: 0.8407583 (0)\ttotal: 187ms\tremaining: 3m 7s\n",
            "50:\ttest: 0.8561894\tbest: 0.8561894 (50)\ttotal: 5.18s\tremaining: 1m 36s\n",
            "100:\ttest: 0.8590510\tbest: 0.8590510 (100)\ttotal: 10.5s\tremaining: 1m 33s\n",
            "150:\ttest: 0.8598720\tbest: 0.8598720 (150)\ttotal: 15.9s\tremaining: 1m 29s\n",
            "200:\ttest: 0.8599680\tbest: 0.8600573 (192)\ttotal: 20.9s\tremaining: 1m 23s\n",
            "250:\ttest: 0.8600825\tbest: 0.8600825 (250)\ttotal: 25.6s\tremaining: 1m 16s\n",
            "300:\ttest: 0.8599377\tbest: 0.8600847 (251)\ttotal: 30.9s\tremaining: 1m 11s\n",
            "Stopped by overfitting detector  (70 iterations wait)\n",
            "\n",
            "bestTest = 0.8600847299\n",
            "bestIteration = 251\n",
            "\n",
            "Shrink model to first 252 iterations.\n",
            "CatBoost ROC AUC SCORE: 0.860084729892414\n"
          ],
          "name": "stdout"
        }
      ]
    },
    {
      "cell_type": "code",
      "metadata": {
        "colab": {
          "base_uri": "https://localhost:8080/"
        },
        "id": "XLx_HL0KBQFb",
        "outputId": "904bdfc7-6d62-4b72-cc9c-8eb2ae3840b1"
      },
      "source": [
        "y_pred = cat.predict(X_test)\n",
        "print(classification_report(y_test,y_pred))"
      ],
      "execution_count": 45,
      "outputs": [
        {
          "output_type": "stream",
          "text": [
            "              precision    recall  f1-score   support\n",
            "\n",
            "           0       0.91      0.68      0.78     11407\n",
            "           1       0.74      0.93      0.83     11345\n",
            "\n",
            "    accuracy                           0.80     22752\n",
            "   macro avg       0.82      0.80      0.80     22752\n",
            "weighted avg       0.82      0.80      0.80     22752\n",
            "\n"
          ],
          "name": "stdout"
        }
      ]
    },
    {
      "cell_type": "code",
      "metadata": {
        "id": "V2dAMFBmx-wt",
        "colab": {
          "base_uri": "https://localhost:8080/"
        },
        "outputId": "3dd5437f-3582-4ef7-c509-090538b20b66"
      },
      "source": [
        "from lightgbm import LGBMClassifier\n",
        "\n",
        "lgb = LGBMClassifier(boosting_type='gbdt',n_estimators=100,depth=10,learning_rate=0.04,objective='binary',metric='auc',is_unbalance=True,\n",
        "                 colsample_bytree=0.5,reg_lambda=2,reg_alpha=2,random_state=42,n_jobs=-1)\n",
        "\n",
        "lgb= lgb.fit(X_train, y_train,eval_metric='auc',eval_set=(X_test , y_test),verbose=50,categorical_feature=cat_col,early_stopping_rounds= 50)\n",
        "\n",
        "\n",
        "pred_proba = lgb.predict_proba(X_test)[:, 1]\n",
        "print('Lightgbm ROC AUC SCORE: {}'.format(roc_auc_score(y_test, pred_proba)))"
      ],
      "execution_count": 46,
      "outputs": [
        {
          "output_type": "stream",
          "text": [
            "Training until validation scores don't improve for 50 rounds.\n",
            "[50]\tvalid_0's auc: 0.857477\n",
            "[100]\tvalid_0's auc: 0.858302\n",
            "Did not meet early stopping. Best iteration is:\n",
            "[99]\tvalid_0's auc: 0.858307\n",
            "Lightgbm ROC AUC SCORE: 0.8583073540510004\n"
          ],
          "name": "stdout"
        }
      ]
    },
    {
      "cell_type": "code",
      "metadata": {
        "colab": {
          "base_uri": "https://localhost:8080/"
        },
        "id": "dvJw2OlzBjCt",
        "outputId": "a20f6fbe-35d4-4299-a40e-694874a76202"
      },
      "source": [
        "y_pred_lgb = lgb.predict(X_test)\n",
        "print(classification_report(y_test,y_pred_lgb))"
      ],
      "execution_count": 47,
      "outputs": [
        {
          "output_type": "stream",
          "text": [
            "              precision    recall  f1-score   support\n",
            "\n",
            "           0       0.90      0.68      0.78     11407\n",
            "           1       0.74      0.93      0.82     11345\n",
            "\n",
            "    accuracy                           0.80     22752\n",
            "   macro avg       0.82      0.80      0.80     22752\n",
            "weighted avg       0.82      0.80      0.80     22752\n",
            "\n"
          ],
          "name": "stdout"
        }
      ]
    },
    {
      "cell_type": "code",
      "metadata": {
        "id": "VKbClxuD1Lh2"
      },
      "source": [
        "param = { 'depth':[3,1,2,6,4,8,9,10,20,30,50],\n",
        "         'iterations':[250,100,500,1000],\n",
        "         'learning_rate':[0.03,0.001,0.01,0.1,0.13,0.2,0.3],\n",
        "         'l2_leaf_reg':[3,1,5,10,100],\n",
        "         'border_count':[32,5,10,20,100,200]\n",
        "        }"
      ],
      "execution_count": null,
      "outputs": []
    },
    {
      "cell_type": "code",
      "metadata": {
        "colab": {
          "base_uri": "https://localhost:8080/"
        },
        "id": "YlWGSOKg3Cqz",
        "outputId": "aa5e711b-e4f9-4b25-a550-3eff3b88fac3"
      },
      "source": [
        "from sklearn.model_selection import RandomizedSearchCV\n",
        "\n",
        "randm = RandomizedSearchCV(cat, param_distributions = param, cv=5,refit = True,n_iter = 10, n_jobs=-1)\n",
        "randm.fit(X_train, y_train)\n",
        "print(\"\\n The best parameters across ALL searched params:\\n\",randm.best_params_)"
      ],
      "execution_count": null,
      "outputs": [
        {
          "output_type": "stream",
          "text": [
            "0:\ttotal: 28.6ms\tremaining: 7.13s\n",
            "1:\ttotal: 56ms\tremaining: 6.95s\n",
            "2:\ttotal: 82.9ms\tremaining: 6.83s\n",
            "3:\ttotal: 110ms\tremaining: 6.77s\n",
            "4:\ttotal: 137ms\tremaining: 6.73s\n",
            "5:\ttotal: 164ms\tremaining: 6.69s\n",
            "6:\ttotal: 189ms\tremaining: 6.57s\n",
            "7:\ttotal: 216ms\tremaining: 6.55s\n",
            "8:\ttotal: 244ms\tremaining: 6.54s\n",
            "9:\ttotal: 268ms\tremaining: 6.42s\n",
            "10:\ttotal: 295ms\tremaining: 6.4s\n",
            "11:\ttotal: 322ms\tremaining: 6.39s\n",
            "12:\ttotal: 356ms\tremaining: 6.5s\n",
            "13:\ttotal: 379ms\tremaining: 6.39s\n",
            "14:\ttotal: 400ms\tremaining: 6.27s\n",
            "15:\ttotal: 426ms\tremaining: 6.24s\n",
            "16:\ttotal: 457ms\tremaining: 6.27s\n",
            "17:\ttotal: 480ms\tremaining: 6.19s\n",
            "18:\ttotal: 505ms\tremaining: 6.14s\n",
            "19:\ttotal: 531ms\tremaining: 6.11s\n",
            "20:\ttotal: 553ms\tremaining: 6.03s\n",
            "21:\ttotal: 581ms\tremaining: 6.02s\n",
            "22:\ttotal: 608ms\tremaining: 6s\n",
            "23:\ttotal: 634ms\tremaining: 5.97s\n",
            "24:\ttotal: 665ms\tremaining: 5.98s\n",
            "25:\ttotal: 687ms\tremaining: 5.92s\n",
            "26:\ttotal: 713ms\tremaining: 5.89s\n",
            "27:\ttotal: 740ms\tremaining: 5.87s\n",
            "28:\ttotal: 766ms\tremaining: 5.84s\n",
            "29:\ttotal: 789ms\tremaining: 5.79s\n",
            "30:\ttotal: 815ms\tremaining: 5.76s\n",
            "31:\ttotal: 841ms\tremaining: 5.73s\n",
            "32:\ttotal: 873ms\tremaining: 5.74s\n",
            "33:\ttotal: 900ms\tremaining: 5.72s\n",
            "34:\ttotal: 924ms\tremaining: 5.68s\n",
            "35:\ttotal: 950ms\tremaining: 5.65s\n",
            "36:\ttotal: 976ms\tremaining: 5.62s\n",
            "37:\ttotal: 1s\tremaining: 5.59s\n",
            "38:\ttotal: 1.03s\tremaining: 5.57s\n",
            "39:\ttotal: 1.05s\tremaining: 5.54s\n",
            "40:\ttotal: 1.08s\tremaining: 5.53s\n",
            "41:\ttotal: 1.11s\tremaining: 5.5s\n",
            "42:\ttotal: 1.14s\tremaining: 5.48s\n",
            "43:\ttotal: 1.19s\tremaining: 5.55s\n",
            "44:\ttotal: 1.21s\tremaining: 5.51s\n",
            "45:\ttotal: 1.24s\tremaining: 5.49s\n",
            "46:\ttotal: 1.27s\tremaining: 5.47s\n",
            "47:\ttotal: 1.3s\tremaining: 5.46s\n",
            "48:\ttotal: 1.32s\tremaining: 5.43s\n",
            "49:\ttotal: 1.36s\tremaining: 5.45s\n",
            "50:\ttotal: 1.39s\tremaining: 5.42s\n",
            "51:\ttotal: 1.41s\tremaining: 5.37s\n",
            "52:\ttotal: 1.44s\tremaining: 5.34s\n",
            "53:\ttotal: 1.46s\tremaining: 5.3s\n",
            "54:\ttotal: 1.49s\tremaining: 5.29s\n",
            "55:\ttotal: 1.52s\tremaining: 5.26s\n",
            "56:\ttotal: 1.54s\tremaining: 5.23s\n",
            "57:\ttotal: 1.57s\tremaining: 5.21s\n",
            "58:\ttotal: 1.6s\tremaining: 5.18s\n",
            "59:\ttotal: 1.63s\tremaining: 5.15s\n",
            "60:\ttotal: 1.65s\tremaining: 5.12s\n",
            "61:\ttotal: 1.68s\tremaining: 5.09s\n",
            "62:\ttotal: 1.71s\tremaining: 5.07s\n",
            "63:\ttotal: 1.74s\tremaining: 5.05s\n",
            "64:\ttotal: 1.76s\tremaining: 5.02s\n",
            "65:\ttotal: 1.79s\tremaining: 4.99s\n",
            "66:\ttotal: 1.82s\tremaining: 4.97s\n",
            "67:\ttotal: 1.85s\tremaining: 4.95s\n",
            "68:\ttotal: 1.87s\tremaining: 4.91s\n",
            "69:\ttotal: 1.9s\tremaining: 4.88s\n",
            "70:\ttotal: 1.93s\tremaining: 4.85s\n",
            "71:\ttotal: 1.96s\tremaining: 4.83s\n",
            "72:\ttotal: 1.98s\tremaining: 4.81s\n",
            "73:\ttotal: 2.01s\tremaining: 4.77s\n",
            "74:\ttotal: 2.03s\tremaining: 4.75s\n",
            "75:\ttotal: 2.06s\tremaining: 4.72s\n",
            "76:\ttotal: 2.08s\tremaining: 4.68s\n",
            "77:\ttotal: 2.11s\tremaining: 4.66s\n",
            "78:\ttotal: 2.14s\tremaining: 4.63s\n",
            "79:\ttotal: 2.16s\tremaining: 4.6s\n",
            "80:\ttotal: 2.19s\tremaining: 4.57s\n",
            "81:\ttotal: 2.22s\tremaining: 4.54s\n",
            "82:\ttotal: 2.24s\tremaining: 4.51s\n",
            "83:\ttotal: 2.27s\tremaining: 4.48s\n",
            "84:\ttotal: 2.29s\tremaining: 4.45s\n",
            "85:\ttotal: 2.31s\tremaining: 4.41s\n",
            "86:\ttotal: 2.34s\tremaining: 4.38s\n",
            "87:\ttotal: 2.38s\tremaining: 4.38s\n",
            "88:\ttotal: 2.41s\tremaining: 4.36s\n",
            "89:\ttotal: 2.45s\tremaining: 4.36s\n",
            "90:\ttotal: 2.47s\tremaining: 4.32s\n",
            "91:\ttotal: 2.5s\tremaining: 4.29s\n",
            "92:\ttotal: 2.53s\tremaining: 4.27s\n",
            "93:\ttotal: 2.56s\tremaining: 4.24s\n",
            "94:\ttotal: 2.58s\tremaining: 4.21s\n",
            "95:\ttotal: 2.61s\tremaining: 4.19s\n",
            "96:\ttotal: 2.64s\tremaining: 4.16s\n",
            "97:\ttotal: 2.66s\tremaining: 4.13s\n",
            "98:\ttotal: 2.69s\tremaining: 4.11s\n",
            "99:\ttotal: 2.72s\tremaining: 4.08s\n",
            "100:\ttotal: 2.75s\tremaining: 4.05s\n",
            "101:\ttotal: 2.77s\tremaining: 4.03s\n",
            "102:\ttotal: 2.8s\tremaining: 4s\n",
            "103:\ttotal: 2.83s\tremaining: 3.97s\n",
            "104:\ttotal: 2.85s\tremaining: 3.93s\n",
            "105:\ttotal: 2.88s\tremaining: 3.91s\n",
            "106:\ttotal: 2.9s\tremaining: 3.88s\n",
            "107:\ttotal: 2.93s\tremaining: 3.85s\n",
            "108:\ttotal: 2.96s\tremaining: 3.83s\n",
            "109:\ttotal: 2.99s\tremaining: 3.81s\n",
            "110:\ttotal: 3.02s\tremaining: 3.78s\n",
            "111:\ttotal: 3.05s\tremaining: 3.75s\n",
            "112:\ttotal: 3.07s\tremaining: 3.73s\n",
            "113:\ttotal: 3.1s\tremaining: 3.7s\n",
            "114:\ttotal: 3.13s\tremaining: 3.67s\n",
            "115:\ttotal: 3.15s\tremaining: 3.65s\n",
            "116:\ttotal: 3.18s\tremaining: 3.61s\n",
            "117:\ttotal: 3.21s\tremaining: 3.59s\n",
            "118:\ttotal: 3.23s\tremaining: 3.55s\n",
            "119:\ttotal: 3.26s\tremaining: 3.53s\n",
            "120:\ttotal: 3.29s\tremaining: 3.5s\n",
            "121:\ttotal: 3.31s\tremaining: 3.48s\n",
            "122:\ttotal: 3.34s\tremaining: 3.45s\n",
            "123:\ttotal: 3.38s\tremaining: 3.43s\n",
            "124:\ttotal: 3.4s\tremaining: 3.4s\n",
            "125:\ttotal: 3.43s\tremaining: 3.37s\n",
            "126:\ttotal: 3.46s\tremaining: 3.35s\n",
            "127:\ttotal: 3.48s\tremaining: 3.32s\n",
            "128:\ttotal: 3.51s\tremaining: 3.29s\n",
            "129:\ttotal: 3.53s\tremaining: 3.26s\n",
            "130:\ttotal: 3.56s\tremaining: 3.23s\n",
            "131:\ttotal: 3.58s\tremaining: 3.2s\n",
            "132:\ttotal: 3.61s\tremaining: 3.18s\n",
            "133:\ttotal: 3.64s\tremaining: 3.15s\n",
            "134:\ttotal: 3.66s\tremaining: 3.12s\n",
            "135:\ttotal: 3.69s\tremaining: 3.1s\n",
            "136:\ttotal: 3.72s\tremaining: 3.07s\n",
            "137:\ttotal: 3.75s\tremaining: 3.04s\n",
            "138:\ttotal: 3.77s\tremaining: 3.01s\n",
            "139:\ttotal: 3.8s\tremaining: 2.98s\n",
            "140:\ttotal: 3.83s\tremaining: 2.96s\n",
            "141:\ttotal: 3.85s\tremaining: 2.93s\n",
            "142:\ttotal: 3.88s\tremaining: 2.9s\n",
            "143:\ttotal: 3.91s\tremaining: 2.88s\n",
            "144:\ttotal: 3.94s\tremaining: 2.85s\n",
            "145:\ttotal: 3.97s\tremaining: 2.83s\n",
            "146:\ttotal: 3.99s\tremaining: 2.8s\n",
            "147:\ttotal: 4.02s\tremaining: 2.77s\n",
            "148:\ttotal: 4.05s\tremaining: 2.74s\n",
            "149:\ttotal: 4.08s\tremaining: 2.72s\n",
            "150:\ttotal: 4.1s\tremaining: 2.69s\n",
            "151:\ttotal: 4.13s\tremaining: 2.66s\n",
            "152:\ttotal: 4.16s\tremaining: 2.64s\n",
            "153:\ttotal: 4.18s\tremaining: 2.61s\n",
            "154:\ttotal: 4.21s\tremaining: 2.58s\n",
            "155:\ttotal: 4.24s\tremaining: 2.55s\n",
            "156:\ttotal: 4.26s\tremaining: 2.52s\n",
            "157:\ttotal: 4.29s\tremaining: 2.5s\n",
            "158:\ttotal: 4.31s\tremaining: 2.47s\n",
            "159:\ttotal: 4.34s\tremaining: 2.44s\n",
            "160:\ttotal: 4.37s\tremaining: 2.42s\n",
            "161:\ttotal: 4.4s\tremaining: 2.39s\n",
            "162:\ttotal: 4.43s\tremaining: 2.36s\n",
            "163:\ttotal: 4.46s\tremaining: 2.34s\n",
            "164:\ttotal: 4.48s\tremaining: 2.31s\n",
            "165:\ttotal: 4.51s\tremaining: 2.28s\n",
            "166:\ttotal: 4.55s\tremaining: 2.26s\n",
            "167:\ttotal: 4.58s\tremaining: 2.24s\n",
            "168:\ttotal: 4.61s\tremaining: 2.21s\n",
            "169:\ttotal: 4.64s\tremaining: 2.18s\n",
            "170:\ttotal: 4.67s\tremaining: 2.15s\n",
            "171:\ttotal: 4.69s\tremaining: 2.13s\n",
            "172:\ttotal: 4.71s\tremaining: 2.1s\n",
            "173:\ttotal: 4.74s\tremaining: 2.07s\n",
            "174:\ttotal: 4.77s\tremaining: 2.04s\n",
            "175:\ttotal: 4.8s\tremaining: 2.02s\n",
            "176:\ttotal: 4.82s\tremaining: 1.99s\n",
            "177:\ttotal: 4.85s\tremaining: 1.96s\n",
            "178:\ttotal: 4.88s\tremaining: 1.94s\n",
            "179:\ttotal: 4.9s\tremaining: 1.91s\n",
            "180:\ttotal: 4.93s\tremaining: 1.88s\n",
            "181:\ttotal: 4.96s\tremaining: 1.85s\n",
            "182:\ttotal: 4.99s\tremaining: 1.83s\n",
            "183:\ttotal: 5.02s\tremaining: 1.8s\n",
            "184:\ttotal: 5.04s\tremaining: 1.77s\n",
            "185:\ttotal: 5.07s\tremaining: 1.75s\n",
            "186:\ttotal: 5.1s\tremaining: 1.72s\n",
            "187:\ttotal: 5.12s\tremaining: 1.69s\n",
            "188:\ttotal: 5.15s\tremaining: 1.66s\n",
            "189:\ttotal: 5.17s\tremaining: 1.63s\n",
            "190:\ttotal: 5.21s\tremaining: 1.61s\n",
            "191:\ttotal: 5.23s\tremaining: 1.58s\n",
            "192:\ttotal: 5.26s\tremaining: 1.55s\n",
            "193:\ttotal: 5.29s\tremaining: 1.53s\n",
            "194:\ttotal: 5.31s\tremaining: 1.5s\n",
            "195:\ttotal: 5.34s\tremaining: 1.47s\n",
            "196:\ttotal: 5.38s\tremaining: 1.45s\n",
            "197:\ttotal: 5.4s\tremaining: 1.42s\n",
            "198:\ttotal: 5.43s\tremaining: 1.39s\n",
            "199:\ttotal: 5.46s\tremaining: 1.36s\n",
            "200:\ttotal: 5.48s\tremaining: 1.33s\n",
            "201:\ttotal: 5.5s\tremaining: 1.31s\n",
            "202:\ttotal: 5.53s\tremaining: 1.28s\n",
            "203:\ttotal: 5.56s\tremaining: 1.25s\n",
            "204:\ttotal: 5.59s\tremaining: 1.23s\n",
            "205:\ttotal: 5.62s\tremaining: 1.2s\n",
            "206:\ttotal: 5.65s\tremaining: 1.17s\n",
            "207:\ttotal: 5.68s\tremaining: 1.15s\n",
            "208:\ttotal: 5.7s\tremaining: 1.12s\n",
            "209:\ttotal: 5.73s\tremaining: 1.09s\n",
            "210:\ttotal: 5.76s\tremaining: 1.06s\n",
            "211:\ttotal: 5.78s\tremaining: 1.04s\n",
            "212:\ttotal: 5.81s\tremaining: 1.01s\n",
            "213:\ttotal: 5.84s\tremaining: 982ms\n",
            "214:\ttotal: 5.87s\tremaining: 955ms\n",
            "215:\ttotal: 5.89s\tremaining: 928ms\n",
            "216:\ttotal: 5.92s\tremaining: 901ms\n",
            "217:\ttotal: 5.95s\tremaining: 873ms\n",
            "218:\ttotal: 5.98s\tremaining: 846ms\n",
            "219:\ttotal: 6s\tremaining: 818ms\n",
            "220:\ttotal: 6.03s\tremaining: 791ms\n",
            "221:\ttotal: 6.06s\tremaining: 764ms\n",
            "222:\ttotal: 6.08s\tremaining: 737ms\n",
            "223:\ttotal: 6.11s\tremaining: 709ms\n",
            "224:\ttotal: 6.14s\tremaining: 682ms\n",
            "225:\ttotal: 6.16s\tremaining: 654ms\n",
            "226:\ttotal: 6.19s\tremaining: 627ms\n",
            "227:\ttotal: 6.21s\tremaining: 599ms\n",
            "228:\ttotal: 6.24s\tremaining: 572ms\n",
            "229:\ttotal: 6.27s\tremaining: 545ms\n",
            "230:\ttotal: 6.3s\tremaining: 518ms\n",
            "231:\ttotal: 6.32s\tremaining: 491ms\n",
            "232:\ttotal: 6.35s\tremaining: 463ms\n",
            "233:\ttotal: 6.39s\tremaining: 437ms\n",
            "234:\ttotal: 6.42s\tremaining: 410ms\n",
            "235:\ttotal: 6.44s\tremaining: 382ms\n",
            "236:\ttotal: 6.47s\tremaining: 355ms\n",
            "237:\ttotal: 6.49s\tremaining: 327ms\n",
            "238:\ttotal: 6.52s\tremaining: 300ms\n",
            "239:\ttotal: 6.55s\tremaining: 273ms\n",
            "240:\ttotal: 6.57s\tremaining: 245ms\n",
            "241:\ttotal: 6.6s\tremaining: 218ms\n",
            "242:\ttotal: 6.63s\tremaining: 191ms\n",
            "243:\ttotal: 6.65s\tremaining: 164ms\n",
            "244:\ttotal: 6.68s\tremaining: 136ms\n",
            "245:\ttotal: 6.71s\tremaining: 109ms\n",
            "246:\ttotal: 6.73s\tremaining: 81.8ms\n",
            "247:\ttotal: 6.76s\tremaining: 54.5ms\n",
            "248:\ttotal: 6.79s\tremaining: 27.3ms\n",
            "249:\ttotal: 6.81s\tremaining: 0us\n",
            "\n",
            " The best parameters across ALL searched params:\n",
            " {'learning_rate': 0.3, 'l2_leaf_reg': 10, 'iterations': 250, 'depth': 4, 'border_count': 32}\n"
          ],
          "name": "stdout"
        }
      ]
    },
    {
      "cell_type": "code",
      "metadata": {
        "colab": {
          "base_uri": "https://localhost:8080/"
        },
        "id": "XjZPnEyN7FvU",
        "outputId": "6af1aa5d-5258-4c54-e808-beb4d62749fe"
      },
      "source": [
        "from catboost import CatBoostClassifier\n",
        "\n",
        "cat = CatBoostClassifier(learning_rate=0.3, l2_leaf_reg=10, iterations= 250, depth= 4, border_count= 32,eval_metric = 'AUC')\n",
        "\n",
        "cat= cat.fit(X_train, y_train,cat_features=cat_col,eval_set=(X_test, y_test),early_stopping_rounds=70,verbose=50)\n",
        "\n",
        "pred_proba = cat.predict_proba(X_test)[:, 1]\n",
        "print('CatBoost ROC AUC SCORE: {}'.format(roc_auc_score(y_test,pred_proba)))"
      ],
      "execution_count": 48,
      "outputs": [
        {
          "output_type": "stream",
          "text": [
            "0:\ttest: 0.8233782\tbest: 0.8233782 (0)\ttotal: 74.1ms\tremaining: 18.4s\n",
            "50:\ttest: 0.8595783\tbest: 0.8595785 (49)\ttotal: 3.02s\tremaining: 11.8s\n",
            "100:\ttest: 0.8594313\tbest: 0.8596544 (61)\ttotal: 5.83s\tremaining: 8.6s\n",
            "Stopped by overfitting detector  (70 iterations wait)\n",
            "\n",
            "bestTest = 0.8596543577\n",
            "bestIteration = 61\n",
            "\n",
            "Shrink model to first 62 iterations.\n",
            "CatBoost ROC AUC SCORE: 0.8596543577368525\n"
          ],
          "name": "stdout"
        }
      ]
    }
  ]
}